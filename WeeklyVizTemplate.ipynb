{
 "cells": [
  {
   "cell_type": "markdown",
   "metadata": {},
   "source": [
    "## Weekly Viz Challenge<br>Figure Size Template"
   ]
  },
  {
   "cell_type": "markdown",
   "metadata": {},
   "source": [
    "### Instruction: How to Use (Each Week)\n",
    "\n",
    "Just update the:<br>*title, xlabel, ylabel<br>*Plotting logic inside the function<br>*Output filename (week_03_visualization.png)\n",
    "\n",
    "This approach ensures all visuals are the same size, have the same font scale, and are ready to share.\n",
    "Let me know if you’d like this expanded to support different chart types (line, bar, scatter, etc.) with arguments."
   ]
  },
  {
   "cell_type": "code",
   "execution_count": 14,
   "metadata": {},
   "outputs": [],
   "source": [
    "import matplotlib.pyplot as plt\n",
    "import seaborn as sns  # Optional but helpful for styling\n",
    "\n",
    "# Apply consistent style\n",
    "plt.style.use('seaborn-whitegrid')  # or 'ggplot', 'classic', etc.\n",
    "sns.set_context(\"notebook\", font_scale=1.2)  # Scales fonts nicely\n",
    "\n",
    "# Create a reusable function or standard layout\n",
    "def create_weekly_viz(title, xlabel, ylabel):\n",
    "    fig, ax = plt.subplots(figsize=(10, 6))  # Consistent figure size\n",
    "    \n",
    "    # [INSERT YOUR PLOTTING CODE HERE]\n",
    "    # Example: sns.barplot(x=data['x'], y=data['y'], ax=ax)\n",
    "    \n",
    "    ax.set_title(title, fontsize=16, fontweight='bold')\n",
    "    ax.set_xlabel(xlabel, fontsize=14)\n",
    "    ax.set_ylabel(ylabel, fontsize=14)\n",
    "    \n",
    "    ax.tick_params(axis='both', labelsize=12)\n",
    "    plt.tight_layout()\n",
    "    \n",
    "    # Save your image with consistent DPI and padding\n",
    "    plt.savefig('week_03_visualization.png', dpi=300, bbox_inches='tight')\n",
    "    plt.show()"
   ]
  },
  {
   "cell_type": "code",
   "execution_count": null,
   "metadata": {},
   "outputs": [],
   "source": [
    "# Other, more simple tips to control image output of existing code\n",
    "\n",
    "# This changes the output size. Can be input by itself.\n",
    "fig, ax = plt.subplots(figsize=(12, 7))\n",
    "\n",
    "# This inputs notes onto the chart with size and placement control. Can be input by itself.\n",
    "plt.text(10, 10, 'Note:\\n70% of measurements fall between 150–200.', fontsize=14)\n",
    "\n",
    "# Here you can control the image output and area captured.\n",
    "plt.tight_layout()\n",
    "plt.savefig('week_03_visualization.png', dpi=300, bbox_inches='tight')\n",
    "plt.show()"
   ]
  }
 ],
 "metadata": {
  "kernelspec": {
   "display_name": "base",
   "language": "python",
   "name": "python3"
  },
  "language_info": {
   "codemirror_mode": {
    "name": "ipython",
    "version": 3
   },
   "file_extension": ".py",
   "mimetype": "text/x-python",
   "name": "python",
   "nbconvert_exporter": "python",
   "pygments_lexer": "ipython3",
   "version": "3.9.12"
  }
 },
 "nbformat": 4,
 "nbformat_minor": 2
}
