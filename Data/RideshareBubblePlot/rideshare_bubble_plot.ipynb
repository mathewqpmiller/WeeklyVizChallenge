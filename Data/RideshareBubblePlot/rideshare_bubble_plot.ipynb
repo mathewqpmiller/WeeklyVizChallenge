{
 "cells": [
  {
   "cell_type": "markdown",
   "metadata": {},
   "source": [
    "### Weekly Viz Challenge: Ride Share Bubble Plot"
   ]
  },
  {
   "cell_type": "code",
   "execution_count": null,
   "metadata": {},
   "outputs": [],
   "source": [
    "# WeeklyVizChallenge file directory path\n",
    "# /content/drive/My Drive/Data Analytics (Main Folder)/Projects & Work/Analytics-Projects/WeeklyVizChallenge (Ongoing Projects)"
   ]
  },
  {
   "cell_type": "code",
   "execution_count": 3,
   "metadata": {},
   "outputs": [],
   "source": [
    "# Load Dependencies for this project\n",
    "\n",
    "import seaborn as sns\n",
    "import matplotlib.pyplot as plt\n",
    "import pandas as pd\n"
   ]
  },
  {
   "cell_type": "code",
   "execution_count": 2,
   "metadata": {},
   "outputs": [
    {
     "data": {
      "text/html": [
       "<div>\n",
       "<style scoped>\n",
       "    .dataframe tbody tr th:only-of-type {\n",
       "        vertical-align: middle;\n",
       "    }\n",
       "\n",
       "    .dataframe tbody tr th {\n",
       "        vertical-align: top;\n",
       "    }\n",
       "\n",
       "    .dataframe thead th {\n",
       "        text-align: right;\n",
       "    }\n",
       "</style>\n",
       "<table border=\"1\" class=\"dataframe\">\n",
       "  <thead>\n",
       "    <tr style=\"text-align: right;\">\n",
       "      <th></th>\n",
       "      <th>City</th>\n",
       "      <th>Average Fare ($)</th>\n",
       "      <th>Total Number of Rides</th>\n",
       "      <th>Total Number of Drivers</th>\n",
       "      <th>City Type</th>\n",
       "    </tr>\n",
       "  </thead>\n",
       "  <tbody>\n",
       "    <tr>\n",
       "      <th>0</th>\n",
       "      <td>New York</td>\n",
       "      <td>20.65</td>\n",
       "      <td>131342</td>\n",
       "      <td>684</td>\n",
       "      <td>Rural</td>\n",
       "    </tr>\n",
       "    <tr>\n",
       "      <th>1</th>\n",
       "      <td>Los Angeles</td>\n",
       "      <td>23.82</td>\n",
       "      <td>14625</td>\n",
       "      <td>3936</td>\n",
       "      <td>Rural</td>\n",
       "    </tr>\n",
       "    <tr>\n",
       "      <th>2</th>\n",
       "      <td>San Antonio</td>\n",
       "      <td>8.19</td>\n",
       "      <td>10678</td>\n",
       "      <td>2074</td>\n",
       "      <td>Rural</td>\n",
       "    </tr>\n",
       "    <tr>\n",
       "      <th>3</th>\n",
       "      <td>Austin</td>\n",
       "      <td>18.77</td>\n",
       "      <td>84606</td>\n",
       "      <td>630</td>\n",
       "      <td>Rural</td>\n",
       "    </tr>\n",
       "    <tr>\n",
       "      <th>4</th>\n",
       "      <td>Jacksonville</td>\n",
       "      <td>23.27</td>\n",
       "      <td>84921</td>\n",
       "      <td>1132</td>\n",
       "      <td>Rural</td>\n",
       "    </tr>\n",
       "  </tbody>\n",
       "</table>\n",
       "</div>"
      ],
      "text/plain": [
       "           City  Average Fare ($)  Total Number of Rides  \\\n",
       "0      New York             20.65                 131342   \n",
       "1   Los Angeles             23.82                  14625   \n",
       "2   San Antonio              8.19                  10678   \n",
       "3        Austin             18.77                  84606   \n",
       "4  Jacksonville             23.27                  84921   \n",
       "\n",
       "   Total Number of Drivers City Type  \n",
       "0                      684     Rural  \n",
       "1                     3936     Rural  \n",
       "2                     2074     Rural  \n",
       "3                      630     Rural  \n",
       "4                     1132     Rural  "
      ]
     },
     "execution_count": 2,
     "metadata": {},
     "output_type": "execute_result"
    }
   ],
   "source": [
    "# Identify File Path\n",
    "\n",
    "file_path = \"/My Drive/Data Analytics (Main Folder)/Projects & Work/Analytics-Projects/WeeklyVizChallenge (Ongoing Projects)/Data/RideshareBubblePlot/rural_rideshare_data.csv\"\n",
    "df = pd.read_csv(file_path)\n",
    "\n",
    "df.head()"
   ]
  }
 ],
 "metadata": {
  "kernelspec": {
   "display_name": "base",
   "language": "python",
   "name": "python3"
  },
  "language_info": {
   "codemirror_mode": {
    "name": "ipython",
    "version": 3
   },
   "file_extension": ".py",
   "mimetype": "text/x-python",
   "name": "python",
   "nbconvert_exporter": "python",
   "pygments_lexer": "ipython3",
   "version": "3.9.12"
  }
 },
 "nbformat": 4,
 "nbformat_minor": 2
}
