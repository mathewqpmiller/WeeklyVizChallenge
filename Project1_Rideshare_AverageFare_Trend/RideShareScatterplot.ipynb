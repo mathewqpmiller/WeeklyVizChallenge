{
 "cells": [
  {
   "cell_type": "markdown",
   "metadata": {
    "id": "9xoM28O7s9KQ"
   },
   "source": [
    "## **WeeklyVizChallenge1:** RideShare Scatterplot"
   ]
  },
  {
   "cell_type": "code",
   "execution_count": 12,
   "metadata": {
    "executionInfo": {
     "elapsed": 12,
     "status": "ok",
     "timestamp": 1742537808862,
     "user": {
      "displayName": "Mathew Miller",
      "userId": "16338349315590331248"
     },
     "user_tz": 420
    },
    "id": "XoTvHlYT0LwX"
   },
   "outputs": [],
   "source": [
    "# File Path: \"/content/drive/My Drive/Data Analytics (Main Folder)/Projects & Work/Analytics-Projects/WeeklyVizChallenge (Ongoing Projects)/Project1_Rideshare_AverageFare_Trend/Data/top_100_rideshare_cities.csv\""
   ]
  },
  {
   "cell_type": "code",
   "execution_count": 13,
   "metadata": {
    "colab": {
     "base_uri": "https://localhost:8080/"
    },
    "executionInfo": {
     "elapsed": 108,
     "status": "ok",
     "timestamp": 1742537808972,
     "user": {
      "displayName": "Mathew Miller",
      "userId": "16338349315590331248"
     },
     "user_tz": 420
    },
    "id": "CrIu0ifH0WIB",
    "outputId": "94d468d4-2e78-4f76-d620-e04a6410baf5"
   },
   "outputs": [
    {
     "name": "stdout",
     "output_type": "stream",
     "text": [
      " Volume in drive G is Google Drive\n",
      " Volume Serial Number is 1983-1116\n",
      "\n",
      " Directory of g:\\content\\drive\\My Drive\\Data Analytics (Main Folder)\\Projects & Work\\Analytics-Projects\\WeeklyVizChallenge (Ongoing Projects)\\Project1_Rideshare_AverageFare_Trend\\Data\n",
      "\n"
     ]
    },
    {
     "name": "stderr",
     "output_type": "stream",
     "text": [
      "File Not Found\n"
     ]
    }
   ],
   "source": [
    "ls \"/content/drive/My Drive/Data Analytics (Main Folder)/Projects & Work/Analytics-Projects/WeeklyVizChallenge (Ongoing Projects)/Project1_Rideshare_AverageFare_Trend/Data/top_100_rideshare_cities.csv\""
   ]
  },
  {
   "cell_type": "code",
   "execution_count": 14,
   "metadata": {
    "executionInfo": {
     "elapsed": 2,
     "status": "ok",
     "timestamp": 1742537808975,
     "user": {
      "displayName": "Mathew Miller",
      "userId": "16338349315590331248"
     },
     "user_tz": 420
    },
    "id": "j86sPAOSs_M-"
   },
   "outputs": [],
   "source": [
    "# Dependencies\n",
    "import pandas as pd\n",
    "import numpy as np\n",
    "import matplotlib.pyplot as plt\n",
    "import seaborn as sns"
   ]
  },
  {
   "cell_type": "code",
   "execution_count": 15,
   "metadata": {
    "colab": {
     "base_uri": "https://localhost:8080/",
     "height": 321
    },
    "executionInfo": {
     "elapsed": 26,
     "status": "error",
     "timestamp": 1742537891067,
     "user": {
      "displayName": "Mathew Miller",
      "userId": "16338349315590331248"
     },
     "user_tz": 420
    },
    "id": "m6MNW9yYsl7T",
    "outputId": "9bafa4e6-ffb5-41d0-e421-a72d5c61a145"
   },
   "outputs": [
    {
     "data": {
      "text/html": [
       "<div>\n",
       "<style scoped>\n",
       "    .dataframe tbody tr th:only-of-type {\n",
       "        vertical-align: middle;\n",
       "    }\n",
       "\n",
       "    .dataframe tbody tr th {\n",
       "        vertical-align: top;\n",
       "    }\n",
       "\n",
       "    .dataframe thead th {\n",
       "        text-align: right;\n",
       "    }\n",
       "</style>\n",
       "<table border=\"1\" class=\"dataframe\">\n",
       "  <thead>\n",
       "    <tr style=\"text-align: right;\">\n",
       "      <th></th>\n",
       "      <th>City</th>\n",
       "      <th>Driver Count</th>\n",
       "      <th>City Type</th>\n",
       "    </tr>\n",
       "  </thead>\n",
       "  <tbody>\n",
       "    <tr>\n",
       "      <th>0</th>\n",
       "      <td>Bozeman</td>\n",
       "      <td>43</td>\n",
       "      <td>Rural</td>\n",
       "    </tr>\n",
       "    <tr>\n",
       "      <th>1</th>\n",
       "      <td>Burlington</td>\n",
       "      <td>46</td>\n",
       "      <td>Rural</td>\n",
       "    </tr>\n",
       "    <tr>\n",
       "      <th>2</th>\n",
       "      <td>Flagstaff</td>\n",
       "      <td>6</td>\n",
       "      <td>Rural</td>\n",
       "    </tr>\n",
       "    <tr>\n",
       "      <th>3</th>\n",
       "      <td>Asheville</td>\n",
       "      <td>47</td>\n",
       "      <td>Rural</td>\n",
       "    </tr>\n",
       "    <tr>\n",
       "      <th>4</th>\n",
       "      <td>Missoula</td>\n",
       "      <td>6</td>\n",
       "      <td>Rural</td>\n",
       "    </tr>\n",
       "  </tbody>\n",
       "</table>\n",
       "</div>"
      ],
      "text/plain": [
       "         City  Driver Count City Type\n",
       "0     Bozeman            43     Rural\n",
       "1  Burlington            46     Rural\n",
       "2   Flagstaff             6     Rural\n",
       "3   Asheville            47     Rural\n",
       "4    Missoula             6     Rural"
      ]
     },
     "execution_count": 15,
     "metadata": {},
     "output_type": "execute_result"
    }
   ],
   "source": [
    "# City Data\n",
    "city_data = pd.read_csv(\"Data/top_100_rideshare_cities.csv\")\n",
    "city_data.head()"
   ]
  },
  {
   "cell_type": "code",
   "execution_count": 16,
   "metadata": {
    "executionInfo": {
     "elapsed": 4,
     "status": "aborted",
     "timestamp": 1742537809013,
     "user": {
      "displayName": "Mathew Miller",
      "userId": "16338349315590331248"
     },
     "user_tz": 420
    },
    "id": "n3qelpvAPXVQ"
   },
   "outputs": [
    {
     "data": {
      "text/html": [
       "<div>\n",
       "<style scoped>\n",
       "    .dataframe tbody tr th:only-of-type {\n",
       "        vertical-align: middle;\n",
       "    }\n",
       "\n",
       "    .dataframe tbody tr th {\n",
       "        vertical-align: top;\n",
       "    }\n",
       "\n",
       "    .dataframe thead th {\n",
       "        text-align: right;\n",
       "    }\n",
       "</style>\n",
       "<table border=\"1\" class=\"dataframe\">\n",
       "  <thead>\n",
       "    <tr style=\"text-align: right;\">\n",
       "      <th></th>\n",
       "      <th>City</th>\n",
       "      <th>Date of Ride</th>\n",
       "      <th>Fare of Ride</th>\n",
       "      <th>Ride ID</th>\n",
       "    </tr>\n",
       "  </thead>\n",
       "  <tbody>\n",
       "    <tr>\n",
       "      <th>0</th>\n",
       "      <td>Bozeman</td>\n",
       "      <td>2024-10-20</td>\n",
       "      <td>19.65</td>\n",
       "      <td>10000</td>\n",
       "    </tr>\n",
       "    <tr>\n",
       "      <th>1</th>\n",
       "      <td>Bozeman</td>\n",
       "      <td>2025-01-18</td>\n",
       "      <td>13.47</td>\n",
       "      <td>10001</td>\n",
       "    </tr>\n",
       "    <tr>\n",
       "      <th>2</th>\n",
       "      <td>Bozeman</td>\n",
       "      <td>2024-04-30</td>\n",
       "      <td>15.24</td>\n",
       "      <td>10002</td>\n",
       "    </tr>\n",
       "    <tr>\n",
       "      <th>3</th>\n",
       "      <td>Bozeman</td>\n",
       "      <td>2024-03-18</td>\n",
       "      <td>13.60</td>\n",
       "      <td>10003</td>\n",
       "    </tr>\n",
       "    <tr>\n",
       "      <th>4</th>\n",
       "      <td>Bozeman</td>\n",
       "      <td>2024-05-28</td>\n",
       "      <td>31.77</td>\n",
       "      <td>10004</td>\n",
       "    </tr>\n",
       "  </tbody>\n",
       "</table>\n",
       "</div>"
      ],
      "text/plain": [
       "      City Date of Ride  Fare of Ride  Ride ID\n",
       "0  Bozeman   2024-10-20         19.65    10000\n",
       "1  Bozeman   2025-01-18         13.47    10001\n",
       "2  Bozeman   2024-04-30         15.24    10002\n",
       "3  Bozeman   2024-03-18         13.60    10003\n",
       "4  Bozeman   2024-05-28         31.77    10004"
      ]
     },
     "execution_count": 16,
     "metadata": {},
     "output_type": "execute_result"
    }
   ],
   "source": [
    "# Ride Data\n",
    "ride_data = pd.read_csv(\"Data/rideshare_data.csv\")\n",
    "ride_data.head()"
   ]
  },
  {
   "cell_type": "code",
   "execution_count": 17,
   "metadata": {
    "executionInfo": {
     "elapsed": 6,
     "status": "aborted",
     "timestamp": 1742537809015,
     "user": {
      "displayName": "Mathew Miller",
      "userId": "16338349315590331248"
     },
     "user_tz": 420
    },
    "id": "aKXd5loIQzUJ"
   },
   "outputs": [
    {
     "data": {
      "text/html": [
       "<div>\n",
       "<style scoped>\n",
       "    .dataframe tbody tr th:only-of-type {\n",
       "        vertical-align: middle;\n",
       "    }\n",
       "\n",
       "    .dataframe tbody tr th {\n",
       "        vertical-align: top;\n",
       "    }\n",
       "\n",
       "    .dataframe thead th {\n",
       "        text-align: right;\n",
       "    }\n",
       "</style>\n",
       "<table border=\"1\" class=\"dataframe\">\n",
       "  <thead>\n",
       "    <tr style=\"text-align: right;\">\n",
       "      <th></th>\n",
       "      <th>City</th>\n",
       "      <th>Date of Ride</th>\n",
       "      <th>Fare of Ride</th>\n",
       "      <th>Ride ID</th>\n",
       "      <th>Driver Count</th>\n",
       "      <th>City Type</th>\n",
       "    </tr>\n",
       "  </thead>\n",
       "  <tbody>\n",
       "    <tr>\n",
       "      <th>0</th>\n",
       "      <td>Bozeman</td>\n",
       "      <td>2024-10-20</td>\n",
       "      <td>19.65</td>\n",
       "      <td>10000</td>\n",
       "      <td>43</td>\n",
       "      <td>Rural</td>\n",
       "    </tr>\n",
       "    <tr>\n",
       "      <th>1</th>\n",
       "      <td>Bozeman</td>\n",
       "      <td>2025-01-18</td>\n",
       "      <td>13.47</td>\n",
       "      <td>10001</td>\n",
       "      <td>43</td>\n",
       "      <td>Rural</td>\n",
       "    </tr>\n",
       "    <tr>\n",
       "      <th>2</th>\n",
       "      <td>Bozeman</td>\n",
       "      <td>2024-04-30</td>\n",
       "      <td>15.24</td>\n",
       "      <td>10002</td>\n",
       "      <td>43</td>\n",
       "      <td>Rural</td>\n",
       "    </tr>\n",
       "    <tr>\n",
       "      <th>3</th>\n",
       "      <td>Bozeman</td>\n",
       "      <td>2024-03-18</td>\n",
       "      <td>13.60</td>\n",
       "      <td>10003</td>\n",
       "      <td>43</td>\n",
       "      <td>Rural</td>\n",
       "    </tr>\n",
       "    <tr>\n",
       "      <th>4</th>\n",
       "      <td>Bozeman</td>\n",
       "      <td>2024-05-28</td>\n",
       "      <td>31.77</td>\n",
       "      <td>10004</td>\n",
       "      <td>43</td>\n",
       "      <td>Rural</td>\n",
       "    </tr>\n",
       "  </tbody>\n",
       "</table>\n",
       "</div>"
      ],
      "text/plain": [
       "      City Date of Ride  Fare of Ride  Ride ID  Driver Count City Type\n",
       "0  Bozeman   2024-10-20         19.65    10000            43     Rural\n",
       "1  Bozeman   2025-01-18         13.47    10001            43     Rural\n",
       "2  Bozeman   2024-04-30         15.24    10002            43     Rural\n",
       "3  Bozeman   2024-03-18         13.60    10003            43     Rural\n",
       "4  Bozeman   2024-05-28         31.77    10004            43     Rural"
      ]
     },
     "execution_count": 17,
     "metadata": {},
     "output_type": "execute_result"
    }
   ],
   "source": [
    "# Merge the city_data and ride_data on city and display the final DataFrame.\n",
    "city_ride_data = pd.merge(ride_data, city_data, how=\"left\", on=['City', 'City'])\n",
    "city_ride_data.head()"
   ]
  },
  {
   "cell_type": "markdown",
   "metadata": {
    "id": "3iL3d_ADTzeG"
   },
   "source": [
    "### Bubble Plot of Ride Sharring Data"
   ]
  },
  {
   "cell_type": "code",
   "execution_count": 18,
   "metadata": {
    "executionInfo": {
     "elapsed": 6,
     "status": "aborted",
     "timestamp": 1742537809016,
     "user": {
      "displayName": "Mathew Miller",
      "userId": "16338349315590331248"
     },
     "user_tz": 420
    },
    "id": "A0dGFI73SQTs"
   },
   "outputs": [],
   "source": [
    "# Split city_ride_data into three seperate tables. One for rural, suburban and urban.\n",
    "urban_cities = city_ride_data[city_ride_data[\"City Type\"] == \"Urban\"]\n",
    "suburban_cities = city_ride_data[city_ride_data[\"City Type\"] == \"Suburban\"]\n",
    "rural_cities = city_ride_data[city_ride_data[\"City Type\"] == \"Rural\"]\n"
   ]
  },
  {
   "cell_type": "code",
   "execution_count": 19,
   "metadata": {
    "executionInfo": {
     "elapsed": 7,
     "status": "aborted",
     "timestamp": 1742537809018,
     "user": {
      "displayName": "Mathew Miller",
      "userId": "16338349315590331248"
     },
     "user_tz": 420
    },
    "id": "P2B1-pfqWqV0"
   },
   "outputs": [
    {
     "name": "stdout",
     "output_type": "stream",
     "text": [
      "Index(['City', 'Date of Ride', 'Fare of Ride', 'Ride ID', 'Driver Count',\n",
      "       'City Type'],\n",
      "      dtype='object')\n"
     ]
    }
   ],
   "source": [
    "print(urban_cities.columns)"
   ]
  },
  {
   "cell_type": "code",
   "execution_count": 20,
   "metadata": {
    "executionInfo": {
     "elapsed": 8,
     "status": "aborted",
     "timestamp": 1742537809019,
     "user": {
      "displayName": "Mathew Miller",
      "userId": "16338349315590331248"
     },
     "user_tz": 420
    },
    "id": "Tl-iyQHNe6dz"
   },
   "outputs": [
    {
     "name": "stdout",
     "output_type": "stream",
     "text": [
      "City             object\n",
      "Date of Ride     object\n",
      "Fare of Ride    float64\n",
      "Ride ID           int64\n",
      "Driver Count      int64\n",
      "City Type        object\n",
      "dtype: object\n",
      "[ 9.27 25.08 18.01 ... 14.6  23.68 36.33]\n",
      "Empty DataFrame\n",
      "Columns: [City, Date of Ride, Fare of Ride, Ride ID, Driver Count, City Type]\n",
      "Index: []\n"
     ]
    }
   ],
   "source": [
    "# Diagnosing \"Fare of Ride\" Issue\n",
    "\n",
    "# Check column data types\n",
    "print(urban_cities.dtypes)\n",
    "\n",
    "# Check if 'Fare of Ride' contains non-numeric values\n",
    "print(urban_cities['Fare of Ride'].unique())\n",
    "\n",
    "# Check if any non-numeric values slipped in\n",
    "print(urban_cities[pd.to_numeric(urban_cities['Fare of Ride'], errors='coerce').isna()])"
   ]
  },
  {
   "cell_type": "code",
   "execution_count": 21,
   "metadata": {
    "executionInfo": {
     "elapsed": 8,
     "status": "aborted",
     "timestamp": 1742537809020,
     "user": {
      "displayName": "Mathew Miller",
      "userId": "16338349315590331248"
     },
     "user_tz": 420
    },
    "id": "JlE0Et2Ufl7Z"
   },
   "outputs": [
    {
     "name": "stdout",
     "output_type": "stream",
     "text": [
      "          City  Fare of Ride\n",
      "0  Albuquerque     29.172045\n",
      "1       Austin     30.734419\n",
      "2    Baltimore     24.950930\n",
      "3       Boston     28.593265\n",
      "4    Charlotte     25.761277\n"
     ]
    }
   ],
   "source": [
    "average_fare = urban_cities.groupby('City', as_index=False)['Fare of Ride'].mean()\n",
    "print(average_fare.head())"
   ]
  },
  {
   "cell_type": "code",
   "execution_count": 22,
   "metadata": {
    "executionInfo": {
     "elapsed": 10,
     "status": "aborted",
     "timestamp": 1742537809022,
     "user": {
      "displayName": "Mathew Miller",
      "userId": "16338349315590331248"
     },
     "user_tz": 420
    },
    "id": "oCeAZzsTdhiB"
   },
   "outputs": [
    {
     "name": "stderr",
     "output_type": "stream",
     "text": [
      "C:\\Users\\Mathew\\AppData\\Local\\Temp\\ipykernel_15792\\1392971628.py:2: SettingWithCopyWarning: \n",
      "A value is trying to be set on a copy of a slice from a DataFrame.\n",
      "Try using .loc[row_indexer,col_indexer] = value instead\n",
      "\n",
      "See the caveats in the documentation: https://pandas.pydata.org/pandas-docs/stable/user_guide/indexing.html#returning-a-view-versus-a-copy\n",
      "  urban_cities['Fare of Ride'] = pd.to_numeric(urban_cities['Fare of Ride'], errors='coerce')\n"
     ]
    }
   ],
   "source": [
    "# Convert Fare to Numeric (Change 'Fare of Ride' to your actual column name)\n",
    "urban_cities['Fare of Ride'] = pd.to_numeric(urban_cities['Fare of Ride'], errors='coerce')"
   ]
  },
  {
   "cell_type": "code",
   "execution_count": 23,
   "metadata": {
    "executionInfo": {
     "elapsed": 226,
     "status": "aborted",
     "timestamp": 1742537809024,
     "user": {
      "displayName": "Mathew Miller",
      "userId": "16338349315590331248"
     },
     "user_tz": 420
    },
    "id": "J4Bu7Bv0SQtp"
   },
   "outputs": [],
   "source": [
    "# Urban Values\n",
    "urban_ride_count = urban_cities.groupby([\"City\"]).count()[\"Ride ID\"]\n",
    "urban_avg_fare = urban_cities.groupby('City')['Fare of Ride'].mean()\n",
    "urban_driver_count = urban_cities.groupby('City')[\"Driver Count\"].mean()"
   ]
  },
  {
   "cell_type": "code",
   "execution_count": 24,
   "metadata": {
    "executionInfo": {
     "elapsed": 225,
     "status": "aborted",
     "timestamp": 1742537809025,
     "user": {
      "displayName": "Mathew Miller",
      "userId": "16338349315590331248"
     },
     "user_tz": 420
    },
    "id": "lATGLB0hSRES"
   },
   "outputs": [
    {
     "data": {
      "text/plain": [
       "City\n",
       "Albuquerque    44\n",
       "Austin         43\n",
       "Baltimore      43\n",
       "Boston         49\n",
       "Charlotte      47\n",
       "Name: Ride ID, dtype: int64"
      ]
     },
     "execution_count": 24,
     "metadata": {},
     "output_type": "execute_result"
    }
   ],
   "source": [
    "urban_ride_count.head()"
   ]
  },
  {
   "cell_type": "code",
   "execution_count": 25,
   "metadata": {
    "executionInfo": {
     "elapsed": 224,
     "status": "aborted",
     "timestamp": 1742537809026,
     "user": {
      "displayName": "Mathew Miller",
      "userId": "16338349315590331248"
     },
     "user_tz": 420
    },
    "id": "KqC-9O0mP2I2"
   },
   "outputs": [
    {
     "data": {
      "text/plain": [
       "City\n",
       "Albuquerque    29.172045\n",
       "Austin         30.734419\n",
       "Baltimore      24.950930\n",
       "Boston         28.593265\n",
       "Charlotte      25.761277\n",
       "Name: Fare of Ride, dtype: float64"
      ]
     },
     "execution_count": 25,
     "metadata": {},
     "output_type": "execute_result"
    }
   ],
   "source": [
    "urban_avg_fare.head()"
   ]
  },
  {
   "cell_type": "code",
   "execution_count": 26,
   "metadata": {
    "executionInfo": {
     "elapsed": 3,
     "status": "aborted",
     "timestamp": 1742537809046,
     "user": {
      "displayName": "Mathew Miller",
      "userId": "16338349315590331248"
     },
     "user_tz": 420
    },
    "id": "fCAWMo4LQaRr"
   },
   "outputs": [
    {
     "data": {
      "text/plain": [
       "City\n",
       "Albuquerque    271.0\n",
       "Austin         291.0\n",
       "Baltimore      697.0\n",
       "Boston         998.0\n",
       "Charlotte      949.0\n",
       "Name: Driver Count, dtype: float64"
      ]
     },
     "execution_count": 26,
     "metadata": {},
     "output_type": "execute_result"
    }
   ],
   "source": [
    "urban_driver_count.head()"
   ]
  },
  {
   "cell_type": "code",
   "execution_count": 27,
   "metadata": {
    "executionInfo": {
     "elapsed": 5,
     "status": "aborted",
     "timestamp": 1742537809048,
     "user": {
      "displayName": "Mathew Miller",
      "userId": "16338349315590331248"
     },
     "user_tz": 420
    },
    "id": "8GQe2XRDWEOk"
   },
   "outputs": [
    {
     "data": {
      "text/html": [
       "<div>\n",
       "<style scoped>\n",
       "    .dataframe tbody tr th:only-of-type {\n",
       "        vertical-align: middle;\n",
       "    }\n",
       "\n",
       "    .dataframe tbody tr th {\n",
       "        vertical-align: top;\n",
       "    }\n",
       "\n",
       "    .dataframe thead th {\n",
       "        text-align: right;\n",
       "    }\n",
       "</style>\n",
       "<table border=\"1\" class=\"dataframe\">\n",
       "  <thead>\n",
       "    <tr style=\"text-align: right;\">\n",
       "      <th></th>\n",
       "      <th>City</th>\n",
       "      <th>Driver Count</th>\n",
       "      <th>City Type</th>\n",
       "    </tr>\n",
       "  </thead>\n",
       "  <tbody>\n",
       "    <tr>\n",
       "      <th>97</th>\n",
       "      <td>Albuquerque</td>\n",
       "      <td>271</td>\n",
       "      <td>Urban</td>\n",
       "    </tr>\n",
       "  </tbody>\n",
       "</table>\n",
       "</div>"
      ],
      "text/plain": [
       "           City  Driver Count City Type\n",
       "97  Albuquerque           271     Urban"
      ]
     },
     "execution_count": 27,
     "metadata": {},
     "output_type": "execute_result"
    }
   ],
   "source": [
    "city_data[city_data[\"City\"] == 'Albuquerque']"
   ]
  },
  {
   "cell_type": "code",
   "execution_count": 28,
   "metadata": {
    "executionInfo": {
     "elapsed": 6,
     "status": "aborted",
     "timestamp": 1742537809050,
     "user": {
      "displayName": "Mathew Miller",
      "userId": "16338349315590331248"
     },
     "user_tz": 420
    },
    "id": "R92NRlA3Wnzr"
   },
   "outputs": [],
   "source": [
    "# Suburban Values\n",
    "suburban_ride_count = suburban_cities.groupby([\"City\"]).count()[\"Ride ID\"]\n",
    "suburban_avg_fare = suburban_cities.groupby('City')['Fare of Ride'].mean()\n",
    "suburban_driver_count = suburban_cities.groupby('City')[\"Driver Count\"].mean()"
   ]
  },
  {
   "cell_type": "code",
   "execution_count": 29,
   "metadata": {
    "executionInfo": {
     "elapsed": 7,
     "status": "aborted",
     "timestamp": 1742537809051,
     "user": {
      "displayName": "Mathew Miller",
      "userId": "16338349315590331248"
     },
     "user_tz": 420
    },
    "id": "f0fIuNkzXsAa"
   },
   "outputs": [],
   "source": [
    "# Rural Values\n",
    "\n",
    "rural_ride_count = rural_cities.groupby([\"City\"]).count()[\"Ride ID\"]\n",
    "rural_avg_fare = rural_cities.groupby('City')['Fare of Ride'].mean()\n",
    "rural_driver_count = rural_cities.groupby('City')[\"Driver Count\"].mean()"
   ]
  },
  {
   "cell_type": "code",
   "execution_count": null,
   "metadata": {},
   "outputs": [],
   "source": [
    "# Color Schemes\n",
    "\n",
    "# 1) Classic Executive\n",
    "#    Primary - #004E64 - Deep Teal-Confident and sleek\n",
    "#    Secondary #FFB400 - Gold-Draws attention subtly\n",
    "#    Neutral - #D9D9D9 - Light Grey-Professional tone\n",
    "\n",
    "# 2) Financial Focus\n",
    "#    Primary - #003049 - Navy Blue-Stability\n",
    "#    Secondary #D62828 - Economist Red-Attention\n",
    "#    Neutral - #EAE2B7 - Beige-Warm balance\n",
    "\n"
   ]
  },
  {
   "cell_type": "code",
   "execution_count": 34,
   "metadata": {
    "executionInfo": {
     "elapsed": 8,
     "status": "aborted",
     "timestamp": 1742537809053,
     "user": {
      "displayName": "Mathew Miller",
      "userId": "16338349315590331248"
     },
     "user_tz": 420
    },
    "id": "9pif4i5xYjaz"
   },
   "outputs": [
    {
     "data": {
      "image/png": "[encoded data removed]",
      "text/plain": [
       "<Figure size 432x288 with 1 Axes>"
      ]
     },
     "metadata": {
      "needs_background": "light"
     },
     "output_type": "display_data"
    }
   ],
   "source": [
    "# Build the Scatterplot for each City Type\n",
    "\n",
    "plt.scatter(urban_ride_count.to_numpy(),\n",
    "            urban_avg_fare.to_numpy(),\n",
    "            s=10*urban_ride_count.to_numpy(),\n",
    "            c='#0A6EBD',\n",
    "            edgecolors='black', linewidths=1, marker='o',\n",
    "            alpha=.7, label='Urban')\n",
    "\n",
    "plt.scatter(suburban_ride_count.to_numpy(),\n",
    "            suburban_avg_fare.to_numpy(),\n",
    "            s=10*suburban_ride_count.to_numpy(),\n",
    "            c='#F5A623',\n",
    "            edgecolors='black', linewidths=1, marker='o',\n",
    "            alpha=.7, label='Suburban')\n",
    "\n",
    "plt.scatter(rural_ride_count.to_numpy(),\n",
    "            rural_avg_fare.to_numpy(),\n",
    "            s=10*rural_ride_count.to_numpy(),\n",
    "            c='#4A4A4A',\n",
    "            edgecolors='black', linewidths=1, marker='o',\n",
    "            alpha=.7, label='Rural')\n",
    "\n",
    "# Incorporate Other Aspects of the Chart\n",
    "plt.title('Rideshare Data')\n",
    "plt.xlabel('Number of Rides (Per City)')\n",
    "plt.ylabel('Average Fare ($)')\n",
    "plt.grid(True)\n",
    "\n",
    "# Create a Legend\n",
    "lgnd = plt.legend(fontsize='small', mode='Expanded',\n",
    "                  numpoints=1, scatterpoints=1,\n",
    "                  loc='best', title='City Types',\n",
    "                  labelspacing=1)\n",
    "lgnd.legendHandles[0]._sizes = [30]\n",
    "lgnd.legendHandles[1]._sizes = [30]\n",
    "lgnd.legendHandles[2]._sizes = [30]\n",
    "\n",
    "# Incorporate a text label regarding circle size\n",
    "plt.text(53, 35, 'Note:\\nCircle size correlates \\nwith driver count per city.')\n",
    "\n",
    "# Save figure\n",
    "plt.savefig(\"scatterplot.png\")\n",
    "\n",
    "# Show Plot\n",
    "plt.show()\n"
   ]
  },
  {
   "cell_type": "code",
   "execution_count": 33,
   "metadata": {
    "executionInfo": {
     "elapsed": 243,
     "status": "aborted",
     "timestamp": 1742537809054,
     "user": {
      "displayName": "Mathew Miller",
      "userId": "16338349315590331248"
     },
     "user_tz": 420
    },
    "id": "Y0RZTqCYl4_u"
   },
   "outputs": [
    {
     "data": {
      "text/plain": [
       "<Figure size 432x288 with 0 Axes>"
      ]
     },
     "metadata": {},
     "output_type": "display_data"
    }
   ],
   "source": [
    "plt.savefig(\"ride_data_scatter.png\", dpi=300, bbox_inches='tight')\n",
    "plt.show()"
   ]
  },
  {
   "cell_type": "code",
   "execution_count": null,
   "metadata": {
    "executionInfo": {
     "elapsed": 243,
     "status": "aborted",
     "timestamp": 1742537809055,
     "user": {
      "displayName": "Mathew Miller",
      "userId": "16338349315590331248"
     },
     "user_tz": 420
    },
    "id": "2bRRFAZrmRVB"
   },
   "outputs": [],
   "source": [
    "import os\n",
    "print(os.listdir())  # Check if the file is saved in the working directory"
   ]
  },
  {
   "cell_type": "code",
   "execution_count": null,
   "metadata": {
    "executionInfo": {
     "elapsed": 243,
     "status": "aborted",
     "timestamp": 1742537809057,
     "user": {
      "displayName": "Mathew Miller",
      "userId": "16338349315590331248"
     },
     "user_tz": 420
    },
    "id": "cDX5gnKLnyle"
   },
   "outputs": [],
   "source": [
    "import os\n",
    "print(os.getcwd())  # Prints the current working directory"
   ]
  }
 ],
 "metadata": {
  "colab": {
   "authorship_tag": "ABX9TyO+txSVJkNmXQ32CmRLdz+m",
   "provenance": []
  },
  "kernelspec": {
   "display_name": "base",
   "language": "python",
   "name": "python3"
  },
  "language_info": {
   "codemirror_mode": {
    "name": "ipython",
    "version": 3
   },
   "file_extension": ".py",
   "mimetype": "text/x-python",
   "name": "python",
   "nbconvert_exporter": "python",
   "pygments_lexer": "ipython3",
   "version": "3.9.12"
  }
 },
 "nbformat": 4,
 "nbformat_minor": 0
}
